{
 "cells": [
  {
   "cell_type": "code",
   "execution_count": 7,
   "metadata": {},
   "outputs": [],
   "source": [
    "import tensorflow as tf\n",
    "from tensorflow import keras\n",
    "from tensorflow.keras import layers\n",
    "import numpy as np\n",
    "import random\n",
    "\n",
    "class FakeAttributeSequenceGenerator(keras.utils.Sequence):\n",
    "    \n",
    "    def __init__(self, batch_size = 64):\n",
    "        self.batch_size = batch_size\n",
    "    \n",
    "    def __getitem__(self, idx):\n",
    "        \n",
    "        list0 = np.random.randint(2, size=(self.batch_size,40))\n",
    "        row_add = np.random.uniform(size=(self.batch_size,1))\n",
    "        list1 = np.concatenate((list0,row_add), axis=1)\n",
    "        \n",
    "        list2 = np.zeros((self.batch_size,1), dtype = int) \n",
    "        \n",
    "        return list1, list2"
   ]
  },
  {
   "cell_type": "code",
   "execution_count": 8,
   "metadata": {},
   "outputs": [],
   "source": [
    "dataGen = FakeAttributeSequenceGenerator()"
   ]
  },
  {
   "cell_type": "code",
   "execution_count": 16,
   "metadata": {},
   "outputs": [
    {
     "name": "stdout",
     "output_type": "stream",
     "text": [
      "(64, 1)\n"
     ]
    }
   ],
   "source": [
    "print(dataGen[0][1].shape)"
   ]
  },
  {
   "cell_type": "code",
   "execution_count": null,
   "metadata": {},
   "outputs": [],
   "source": []
  }
 ],
 "metadata": {
  "kernelspec": {
   "display_name": "Python 3",
   "language": "python",
   "name": "python3"
  },
  "language_info": {
   "codemirror_mode": {
    "name": "ipython",
    "version": 3
   },
   "file_extension": ".py",
   "mimetype": "text/x-python",
   "name": "python",
   "nbconvert_exporter": "python",
   "pygments_lexer": "ipython3",
   "version": "3.7.3"
  }
 },
 "nbformat": 4,
 "nbformat_minor": 4
}
