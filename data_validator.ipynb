{
 "cells": [
  {
   "cell_type": "code",
   "execution_count": 1,
   "metadata": {},
   "outputs": [],
   "source": [
    "import os.path\n",
    "from os import path"
   ]
  },
  {
   "cell_type": "code",
   "execution_count": 3,
   "metadata": {},
   "outputs": [
    {
     "name": "stdout",
     "output_type": "stream",
     "text": [
      "ERROR: Data Folder Not Found\n"
     ]
    }
   ],
   "source": [
    "DIR = os.getcwd() + '\\\\celeb_a\\\\2.0.1'\n",
    "if os.path.isdir(DIR):\n",
    "    print (\"Data Folder exists:\")\n",
    "    print (str(len([name for name in os.listdir(DIR) if os.path.isfile(os.path.join(DIR, name))])) + \" of 22 files exist\")\n",
    "else:\n",
    "    print (\"ERROR: Data Folder Not Found\")"
   ]
  },
  {
   "cell_type": "code",
   "execution_count": null,
   "metadata": {},
   "outputs": [],
   "source": []
  }
 ],
 "metadata": {
  "kernelspec": {
   "display_name": "Python 3",
   "language": "python",
   "name": "python3"
  },
  "language_info": {
   "codemirror_mode": {
    "name": "ipython",
    "version": 3
   },
   "file_extension": ".py",
   "mimetype": "text/x-python",
   "name": "python",
   "nbconvert_exporter": "python",
   "pygments_lexer": "ipython3",
   "version": "3.7.9"
  }
 },
 "nbformat": 4,
 "nbformat_minor": 4
}
